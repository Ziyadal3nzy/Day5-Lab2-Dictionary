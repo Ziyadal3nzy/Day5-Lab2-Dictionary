{
 "cells": [
  {
   "cell_type": "code",
   "execution_count": null,
   "id": "6b3a661c",
   "metadata": {},
   "outputs": [],
   "source": [
    "dict = {\n",
    "1111111111:\"Amal\",\n",
    "2222222222:\"Mohammed\",\n",
    "3333333333:\"Khadijah\",\n",
    "4444444444: \"Abdullah\",\n",
    "5555555555: \"Rawan\",\n",
    "6666666666: \"Faisal\",\n",
    "7777777777: \"Layla\"\n",
    "}\n",
    "\n",
    "x =input(\"Enter the phone number:\")\n",
    "\n",
    "if len(x) != 10:\n",
    "    print(\"This is invalid number\")\n",
    "\n",
    "\n",
    "if x.isdigit()== False:\n",
    "    print(\"This is invalid number\")\n",
    "\n",
    "\n",
    "i=int(x)\n",
    "while i in dic.keys():\n",
    "    y = dic.get(i)\n",
    "    print(y)\n",
    "    break\n",
    "else:\n",
    "    print(\"Sorry, the number is not found\")"
   ]
  },
  {
   "cell_type": "code",
   "execution_count": null,
   "id": "3e7638cf",
   "metadata": {},
   "outputs": [],
   "source": [
    "print(dict)"
   ]
  },
  {
   "cell_type": "code",
   "execution_count": null,
   "id": "ba651411",
   "metadata": {},
   "outputs": [],
   "source": []
  }
 ],
 "metadata": {
  "kernelspec": {
   "display_name": "Python 3 (ipykernel)",
   "language": "python",
   "name": "python3"
  },
  "language_info": {
   "codemirror_mode": {
    "name": "ipython",
    "version": 3
   },
   "file_extension": ".py",
   "mimetype": "text/x-python",
   "name": "python",
   "nbconvert_exporter": "python",
   "pygments_lexer": "ipython3",
   "version": "3.10.5"
  }
 },
 "nbformat": 4,
 "nbformat_minor": 5
}
